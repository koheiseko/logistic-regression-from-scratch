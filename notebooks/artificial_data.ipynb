{
 "cells": [
  {
   "cell_type": "code",
   "execution_count": 1,
   "id": "22089c20",
   "metadata": {},
   "outputs": [],
   "source": [
    "import pandas as pd\n",
    "import seaborn as sns\n",
    "import matplotlib.pyplot as plt\n",
    "from sklearn.datasets import make_classification"
   ]
  },
  {
   "cell_type": "code",
   "execution_count": 2,
   "id": "51d23aae",
   "metadata": {},
   "outputs": [],
   "source": [
    "data = make_classification(\n",
    "    n_classes=2,\n",
    "    n_samples=1000,\n",
    "    random_state=42,   \n",
    ")"
   ]
  },
  {
   "cell_type": "code",
   "execution_count": 3,
   "id": "ac83107f",
   "metadata": {},
   "outputs": [],
   "source": [
    "X, y = data[0], data[1]"
   ]
  },
  {
   "cell_type": "code",
   "execution_count": 4,
   "id": "6e604bd1",
   "metadata": {},
   "outputs": [],
   "source": [
    "from sklearn.model_selection import train_test_split\n",
    "\n",
    "X_train, X_test, y_train, y_test = train_test_split(X, y, test_size=0.2, random_state=42)"
   ]
  },
  {
   "cell_type": "code",
   "execution_count": 5,
   "id": "6c2ad313",
   "metadata": {},
   "outputs": [],
   "source": [
    "from logistic_regression import LogisticRegression_\n",
    "\n",
    "log_reg = LogisticRegression_(random_state=42)\n",
    "log_reg.fit(X_train, y_train, epochs=1000, learning_rate=0.1)\n",
    "\n",
    "y_pred = log_reg.predict(X_test)"
   ]
  },
  {
   "cell_type": "code",
   "execution_count": 6,
   "id": "0013b199",
   "metadata": {},
   "outputs": [],
   "source": [
    "from sklearn.linear_model import LogisticRegression\n",
    "\n",
    "log_reg_sklearn = LogisticRegression(random_state=42)\n",
    "log_reg_sklearn.fit(X_train, y_train)\n",
    "\n",
    "y_pred_sklearn = log_reg_sklearn.predict(X_test)"
   ]
  },
  {
   "cell_type": "code",
   "execution_count": 7,
   "id": "8c8f0c2c",
   "metadata": {},
   "outputs": [
    {
     "name": "stdout",
     "output_type": "stream",
     "text": [
      "logistic regression from scratch metrics:\n",
      "\n",
      "        accuracy score: 85.50%\n",
      "        precision score: 91.49%\"\n",
      "        recall score: 80.37%\n",
      "    \n",
      "logistic regression scikit-learn metrics:\n",
      "\n",
      "        accuracy score: 85.50%\n",
      "        precision score: 91.49%\"\n",
      "        recall score: 80.37%\n",
      "    \n"
     ]
    }
   ],
   "source": [
    "from metrics import get_metrics\n",
    "\n",
    "print('logistic regression from scratch metrics:')\n",
    "metrics = get_metrics(y_test, y_pred)\n",
    "\n",
    "print('logistic regression scikit-learn metrics:')\n",
    "metrics_sklearn = get_metrics(y_test, y_pred_sklearn)"
   ]
  },
  {
   "cell_type": "code",
   "execution_count": 10,
   "id": "00bacee1",
   "metadata": {},
   "outputs": [
    {
     "data": {
      "text/plain": [
       "Text(0.5, 1.0, 'Scikit-learn logistic regression metrics')"
      ]
     },
     "execution_count": 10,
     "metadata": {},
     "output_type": "execute_result"
    },
    {
     "data": {
      "image/png": "[encoded data removed]",
      "text/plain": [
       "<Figure size 1400x600 with 2 Axes>"
      ]
     },
     "metadata": {},
     "output_type": "display_data"
    }
   ],
   "source": [
    "metrics_name = ['accuracy', 'precision', 'recall']\n",
    "\n",
    "fig, (ax1, ax2) = plt.subplots(nrows=1, ncols=2, figsize=(14, 6))\n",
    "\n",
    "sns.barplot(x=metrics_name, y=metrics, hue=metrics_name, ax=ax1)\n",
    "ax1.set_title('Logistic regression metrics')\n",
    "ax1.set_ylabel('Percentege %')\n",
    "\n",
    "sns.barplot(x=metrics_name, y=metrics_sklearn, hue=metrics_name, ax=ax2)\n",
    "ax2.set_ylabel('Percentege %')\n",
    "ax2.set_title('Scikit-learn logistic regression metrics')"
   ]
  }
 ],
 "metadata": {
  "kernelspec": {
   "display_name": "logistic-regression-from-scratch",
   "language": "python",
   "name": "python3"
  },
  "language_info": {
   "codemirror_mode": {
    "name": "ipython",
    "version": 3
   },
   "file_extension": ".py",
   "mimetype": "text/x-python",
   "name": "python",
   "nbconvert_exporter": "python",
   "pygments_lexer": "ipython3",
   "version": "3.13.7"
  }
 },
 "nbformat": 4,
 "nbformat_minor": 5
}
